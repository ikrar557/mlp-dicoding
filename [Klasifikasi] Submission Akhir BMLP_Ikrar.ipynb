{
  "cells": [
    {
      "cell_type": "markdown",
      "metadata": {
        "id": "fKADPWcFKlj3"
      },
      "source": [
        "# **1. Import Library**"
      ]
    },
    {
      "cell_type": "code",
      "execution_count": 68,
      "metadata": {
        "id": "BlmvjLY9M4Yj"
      },
      "outputs": [],
      "source": [
        "import pandas as pd\n",
        "from sklearn.model_selection import train_test_split, RandomizedSearchCV\n",
        "from sklearn.preprocessing import LabelEncoder, MinMaxScaler  \n",
        "import seaborn as sns \n",
        "import numpy as np \n",
        "from sklearn.neighbors import KNeighborsClassifier \n",
        "from sklearn.tree import DecisionTreeClassifier\n",
        "from sklearn.ensemble import RandomForestClassifier\n",
        "from sklearn.svm import SVC\n",
        "from sklearn.naive_bayes import GaussianNB\n",
        "from sklearn.metrics import confusion_matrix, accuracy_score, precision_score, recall_score, f1_score, classification_report\n",
        "import matplotlib.pyplot as plt"
      ]
    },
    {
      "cell_type": "markdown",
      "metadata": {
        "id": "f3YIEnAFKrKL"
      },
      "source": [
        "# **2. Memuat Dataset dari Hasil Clustering**"
      ]
    },
    {
      "cell_type": "code",
      "execution_count": 69,
      "metadata": {
        "id": "GHCGNTyrM5fS"
      },
      "outputs": [
        {
          "data": {
            "text/html": [
              "<div>\n",
              "<style scoped>\n",
              "    .dataframe tbody tr th:only-of-type {\n",
              "        vertical-align: middle;\n",
              "    }\n",
              "\n",
              "    .dataframe tbody tr th {\n",
              "        vertical-align: top;\n",
              "    }\n",
              "\n",
              "    .dataframe thead th {\n",
              "        text-align: right;\n",
              "    }\n",
              "</style>\n",
              "<table border=\"1\" class=\"dataframe\">\n",
              "  <thead>\n",
              "    <tr style=\"text-align: right;\">\n",
              "      <th></th>\n",
              "      <th>country</th>\n",
              "      <th>gross</th>\n",
              "      <th>budget</th>\n",
              "      <th>votes</th>\n",
              "      <th>company</th>\n",
              "      <th>Cluster</th>\n",
              "    </tr>\n",
              "  </thead>\n",
              "  <tbody>\n",
              "    <tr>\n",
              "      <th>0</th>\n",
              "      <td>United Kingdom</td>\n",
              "      <td>4.699877e+07</td>\n",
              "      <td>19000000.0</td>\n",
              "      <td>218850.0</td>\n",
              "      <td>Warner Bros.</td>\n",
              "      <td>0</td>\n",
              "    </tr>\n",
              "    <tr>\n",
              "      <th>1</th>\n",
              "      <td>United States</td>\n",
              "      <td>5.885311e+07</td>\n",
              "      <td>4500000.0</td>\n",
              "      <td>65000.0</td>\n",
              "      <td>Columbia Pictures</td>\n",
              "      <td>0</td>\n",
              "    </tr>\n",
              "    <tr>\n",
              "      <th>2</th>\n",
              "      <td>United States</td>\n",
              "      <td>1.745288e+08</td>\n",
              "      <td>18000000.0</td>\n",
              "      <td>218850.0</td>\n",
              "      <td>Lucasfilm</td>\n",
              "      <td>0</td>\n",
              "    </tr>\n",
              "    <tr>\n",
              "      <th>3</th>\n",
              "      <td>United States</td>\n",
              "      <td>8.345354e+07</td>\n",
              "      <td>3500000.0</td>\n",
              "      <td>218850.0</td>\n",
              "      <td>Paramount Pictures</td>\n",
              "      <td>0</td>\n",
              "    </tr>\n",
              "    <tr>\n",
              "      <th>4</th>\n",
              "      <td>United States</td>\n",
              "      <td>3.984634e+07</td>\n",
              "      <td>6000000.0</td>\n",
              "      <td>108000.0</td>\n",
              "      <td>Orion Pictures</td>\n",
              "      <td>0</td>\n",
              "    </tr>\n",
              "  </tbody>\n",
              "</table>\n",
              "</div>"
            ],
            "text/plain": [
              "          country         gross      budget     votes             company  \\\n",
              "0  United Kingdom  4.699877e+07  19000000.0  218850.0        Warner Bros.   \n",
              "1   United States  5.885311e+07   4500000.0   65000.0   Columbia Pictures   \n",
              "2   United States  1.745288e+08  18000000.0  218850.0           Lucasfilm   \n",
              "3   United States  8.345354e+07   3500000.0  218850.0  Paramount Pictures   \n",
              "4   United States  3.984634e+07   6000000.0  108000.0      Orion Pictures   \n",
              "\n",
              "   Cluster  \n",
              "0        0  \n",
              "1        0  \n",
              "2        0  \n",
              "3        0  \n",
              "4        0  "
            ]
          },
          "execution_count": 69,
          "metadata": {},
          "output_type": "execute_result"
        }
      ],
      "source": [
        "df = pd.read_csv(\"movies_clustering.csv\")\n",
        "df.head()"
      ]
    },
    {
      "cell_type": "code",
      "execution_count": 70,
      "metadata": {},
      "outputs": [
        {
          "data": {
            "text/html": [
              "<div>\n",
              "<style scoped>\n",
              "    .dataframe tbody tr th:only-of-type {\n",
              "        vertical-align: middle;\n",
              "    }\n",
              "\n",
              "    .dataframe tbody tr th {\n",
              "        vertical-align: top;\n",
              "    }\n",
              "\n",
              "    .dataframe thead th {\n",
              "        text-align: right;\n",
              "    }\n",
              "</style>\n",
              "<table border=\"1\" class=\"dataframe\">\n",
              "  <thead>\n",
              "    <tr style=\"text-align: right;\">\n",
              "      <th></th>\n",
              "      <th>country</th>\n",
              "      <th>gross</th>\n",
              "      <th>budget</th>\n",
              "      <th>votes</th>\n",
              "      <th>company</th>\n",
              "      <th>Cluster</th>\n",
              "    </tr>\n",
              "  </thead>\n",
              "  <tbody>\n",
              "    <tr>\n",
              "      <th>7663</th>\n",
              "      <td>United States</td>\n",
              "      <td>20205757.0</td>\n",
              "      <td>7000.0</td>\n",
              "      <td>18.0</td>\n",
              "      <td>Universal Pictures</td>\n",
              "      <td>0</td>\n",
              "    </tr>\n",
              "    <tr>\n",
              "      <th>7664</th>\n",
              "      <td>United States</td>\n",
              "      <td>20205757.0</td>\n",
              "      <td>20500000.0</td>\n",
              "      <td>36.0</td>\n",
              "      <td>Cactus Blue Entertainment</td>\n",
              "      <td>0</td>\n",
              "    </tr>\n",
              "    <tr>\n",
              "      <th>7665</th>\n",
              "      <td>United States</td>\n",
              "      <td>20205757.0</td>\n",
              "      <td>58750.0</td>\n",
              "      <td>29.0</td>\n",
              "      <td>Embi Productions</td>\n",
              "      <td>0</td>\n",
              "    </tr>\n",
              "    <tr>\n",
              "      <th>7666</th>\n",
              "      <td>United States</td>\n",
              "      <td>20205757.0</td>\n",
              "      <td>15000.0</td>\n",
              "      <td>29.0</td>\n",
              "      <td>Universal Pictures</td>\n",
              "      <td>0</td>\n",
              "    </tr>\n",
              "    <tr>\n",
              "      <th>7667</th>\n",
              "      <td>South Africa</td>\n",
              "      <td>20205757.0</td>\n",
              "      <td>20500000.0</td>\n",
              "      <td>7.0</td>\n",
              "      <td>PK 65 Films</td>\n",
              "      <td>0</td>\n",
              "    </tr>\n",
              "  </tbody>\n",
              "</table>\n",
              "</div>"
            ],
            "text/plain": [
              "            country       gross      budget  votes                    company  \\\n",
              "7663  United States  20205757.0      7000.0   18.0         Universal Pictures   \n",
              "7664  United States  20205757.0  20500000.0   36.0  Cactus Blue Entertainment   \n",
              "7665  United States  20205757.0     58750.0   29.0           Embi Productions   \n",
              "7666  United States  20205757.0     15000.0   29.0         Universal Pictures   \n",
              "7667   South Africa  20205757.0  20500000.0    7.0                PK 65 Films   \n",
              "\n",
              "      Cluster  \n",
              "7663        0  \n",
              "7664        0  \n",
              "7665        0  \n",
              "7666        0  \n",
              "7667        0  "
            ]
          },
          "execution_count": 70,
          "metadata": {},
          "output_type": "execute_result"
        }
      ],
      "source": [
        "df.tail()"
      ]
    },
    {
      "cell_type": "markdown",
      "metadata": {
        "id": "KkPem5eWL2UP"
      },
      "source": [
        "# **3. Data Splitting**"
      ]
    },
    {
      "cell_type": "code",
      "execution_count": 71,
      "metadata": {
        "id": "OubAW-7ONKVj"
      },
      "outputs": [
        {
          "name": "stdout",
          "output_type": "stream",
          "text": [
            "<class 'pandas.core.frame.DataFrame'>\n",
            "RangeIndex: 7668 entries, 0 to 7667\n",
            "Data columns (total 6 columns):\n",
            " #   Column   Non-Null Count  Dtype  \n",
            "---  ------   --------------  -----  \n",
            " 0   country  7668 non-null   object \n",
            " 1   gross    7668 non-null   float64\n",
            " 2   budget   7668 non-null   float64\n",
            " 3   votes    7668 non-null   float64\n",
            " 4   company  7668 non-null   object \n",
            " 5   Cluster  7668 non-null   int64  \n",
            "dtypes: float64(3), int64(1), object(2)\n",
            "memory usage: 359.6+ KB\n"
          ]
        }
      ],
      "source": [
        "df.info()"
      ]
    },
    {
      "cell_type": "code",
      "execution_count": 72,
      "metadata": {},
      "outputs": [
        {
          "name": "stdout",
          "output_type": "stream",
          "text": [
            "Kolom kategorikal: ['country', 'company']\n",
            "Jumlah kolom kategorikal: 2\n",
            "Kolom numerikal: ['gross', 'budget', 'votes', 'Cluster']\n",
            "Jumlah kolom numerikal: 4\n"
          ]
        }
      ],
      "source": [
        "categorical_features = []\n",
        "numerical_features = []\n",
        "\n",
        "for col in df.columns:\n",
        "    if df[col].dtype == 'object':\n",
        "        categorical_features.append(col)\n",
        "    else:\n",
        "        numerical_features.append(col)\n",
        "\n",
        "print('Kolom kategorikal:', categorical_features)\n",
        "print('Jumlah kolom kategorikal:', len(categorical_features))\n",
        "print('Kolom numerikal:', numerical_features)\n",
        "print('Jumlah kolom numerikal:', len(numerical_features))\n"
      ]
    },
    {
      "cell_type": "code",
      "execution_count": 73,
      "metadata": {},
      "outputs": [
        {
          "data": {
            "text/html": [
              "<div>\n",
              "<style scoped>\n",
              "    .dataframe tbody tr th:only-of-type {\n",
              "        vertical-align: middle;\n",
              "    }\n",
              "\n",
              "    .dataframe tbody tr th {\n",
              "        vertical-align: top;\n",
              "    }\n",
              "\n",
              "    .dataframe thead th {\n",
              "        text-align: right;\n",
              "    }\n",
              "</style>\n",
              "<table border=\"1\" class=\"dataframe\">\n",
              "  <thead>\n",
              "    <tr style=\"text-align: right;\">\n",
              "      <th></th>\n",
              "      <th>country</th>\n",
              "      <th>gross</th>\n",
              "      <th>budget</th>\n",
              "      <th>votes</th>\n",
              "      <th>company</th>\n",
              "      <th>Cluster</th>\n",
              "    </tr>\n",
              "  </thead>\n",
              "  <tbody>\n",
              "    <tr>\n",
              "      <th>0</th>\n",
              "      <td>54</td>\n",
              "      <td>4.699877e+07</td>\n",
              "      <td>19000000.0</td>\n",
              "      <td>218850.0</td>\n",
              "      <td>2319</td>\n",
              "      <td>0</td>\n",
              "    </tr>\n",
              "    <tr>\n",
              "      <th>1</th>\n",
              "      <td>55</td>\n",
              "      <td>5.885311e+07</td>\n",
              "      <td>4500000.0</td>\n",
              "      <td>65000.0</td>\n",
              "      <td>731</td>\n",
              "      <td>0</td>\n",
              "    </tr>\n",
              "    <tr>\n",
              "      <th>2</th>\n",
              "      <td>55</td>\n",
              "      <td>1.745288e+08</td>\n",
              "      <td>18000000.0</td>\n",
              "      <td>218850.0</td>\n",
              "      <td>1540</td>\n",
              "      <td>0</td>\n",
              "    </tr>\n",
              "    <tr>\n",
              "      <th>3</th>\n",
              "      <td>55</td>\n",
              "      <td>8.345354e+07</td>\n",
              "      <td>3500000.0</td>\n",
              "      <td>218850.0</td>\n",
              "      <td>1812</td>\n",
              "      <td>0</td>\n",
              "    </tr>\n",
              "    <tr>\n",
              "      <th>4</th>\n",
              "      <td>55</td>\n",
              "      <td>3.984634e+07</td>\n",
              "      <td>6000000.0</td>\n",
              "      <td>108000.0</td>\n",
              "      <td>1777</td>\n",
              "      <td>0</td>\n",
              "    </tr>\n",
              "  </tbody>\n",
              "</table>\n",
              "</div>"
            ],
            "text/plain": [
              "   country         gross      budget     votes  company  Cluster\n",
              "0       54  4.699877e+07  19000000.0  218850.0     2319        0\n",
              "1       55  5.885311e+07   4500000.0   65000.0      731        0\n",
              "2       55  1.745288e+08  18000000.0  218850.0     1540        0\n",
              "3       55  8.345354e+07   3500000.0  218850.0     1812        0\n",
              "4       55  3.984634e+07   6000000.0  108000.0     1777        0"
            ]
          },
          "execution_count": 73,
          "metadata": {},
          "output_type": "execute_result"
        }
      ],
      "source": [
        "label_encoders = {}\n",
        "df_lencoder = df.copy()\n",
        "\n",
        "for col in categorical_features:\n",
        "    label_encoders[col] = LabelEncoder()\n",
        "    df_lencoder[col] = label_encoders[col].fit_transform(df[col])\n",
        "\n",
        "df_lencoder.head()"
      ]
    },
    {
      "cell_type": "code",
      "execution_count": 74,
      "metadata": {},
      "outputs": [
        {
          "name": "stdout",
          "output_type": "stream",
          "text": [
            "Training set shape: X_train=(6134, 5), y_train=(6134,)\n",
            "Test set shape: X_test=(1534, 5), y_test=(1534,)\n"
          ]
        }
      ],
      "source": [
        "scaler = MinMaxScaler()\n",
        "\n",
        "numeric_columns = df_lencoder.select_dtypes(include=['int64', 'float64']).columns\n",
        "df_lencoder[numeric_columns] = scaler.fit_transform(df_lencoder[numeric_columns])\n",
        "\n",
        "X = df_lencoder.drop(columns=['Cluster'])\n",
        "y = df_lencoder['Cluster']\n",
        "\n",
        "X_train, X_test, y_train, y_test = train_test_split(X, y, test_size=0.2, random_state=80)\n",
        "\n",
        "\n",
        "print(f\"Training set shape: X_train={X_train.shape}, y_train={y_train.shape}\")\n",
        "print(f\"Test set shape: X_test={X_test.shape}, y_test={y_test.shape}\")"
      ]
    },
    {
      "cell_type": "markdown",
      "metadata": {
        "id": "IVPbB03CMhTT"
      },
      "source": [
        "# **4. Membangun Model Klasifikasi**\n"
      ]
    },
    {
      "cell_type": "markdown",
      "metadata": {
        "id": "Ned1pL9zMmBK"
      },
      "source": [
        "## **a. Membangun Model Klasifikasi**"
      ]
    },
    {
      "cell_type": "code",
      "execution_count": 75,
      "metadata": {
        "id": "4JYxBe87NLDk"
      },
      "outputs": [
        {
          "name": "stdout",
          "output_type": "stream",
          "text": [
            "Training Model Finished.\n"
          ]
        }
      ],
      "source": [
        "knn = KNeighborsClassifier().fit(X_train, y_train)\n",
        "dt = DecisionTreeClassifier().fit(X_train, y_train)\n",
        "rf = RandomForestClassifier().fit(X_train, y_train)\n",
        "svm = SVC().fit(X_train, y_train)\n",
        "nb = GaussianNB().fit(X_train, y_train)\n",
        " \n",
        "print(\"Training Model Finished.\")"
      ]
    },
    {
      "cell_type": "markdown",
      "metadata": {
        "id": "seYoHNY3XU1y"
      },
      "source": [
        "Tulis narasi atau penjelasan algoritma yang Anda gunakan.\n",
        "\n",
        "- KNN\n",
        "- Decision Tree\n",
        "- Random Forest\n",
        "- Support Vector Machine\n",
        "- Naive Bayes"
      ]
    },
    {
      "cell_type": "markdown",
      "metadata": {
        "id": "ergzChZFEL-O"
      },
      "source": [
        "## **b. Evaluasi Model Klasifikasi**"
      ]
    },
    {
      "cell_type": "code",
      "execution_count": 76,
      "metadata": {},
      "outputs": [
        {
          "name": "stdout",
          "output_type": "stream",
          "text": [
            "KNN Classification Report:\n",
            "               precision    recall  f1-score   support\n",
            "\n",
            "         0.0    1.00000   0.99767   0.99883      1287\n",
            "         1.0    0.98800   1.00000   0.99396       247\n",
            "\n",
            "    accuracy                        0.99804      1534\n",
            "   macro avg    0.99400   0.99883   0.99640      1534\n",
            "weighted avg    0.99807   0.99804   0.99805      1534\n",
            "\n"
          ]
        },
        {
          "data": {
            "image/png": "[encoded data removed]",
            "text/plain": [
              "<Figure size 700x700 with 2 Axes>"
            ]
          },
          "metadata": {},
          "output_type": "display_data"
        },
        {
          "name": "stdout",
          "output_type": "stream",
          "text": [
            "\n",
            "\n"
          ]
        }
      ],
      "source": [
        "knn_pred = knn.predict(X_test)\n",
        "print(\"KNN Classification Report:\\n\", classification_report(y_test, knn_pred, digits=5))\n",
        "\n",
        "knn_cm = confusion_matrix(y_test, knn_pred)\n",
        "plt.figure(figsize=(7, 7))\n",
        "sns.heatmap(knn_cm, annot=True, fmt=\"d\", cmap=\"Blues\", xticklabels=np.unique(y), yticklabels=np.unique(y))\n",
        "\n",
        "plt.xlabel('Predicted Labels')\n",
        "plt.ylabel('Actual Labels')\n",
        "plt.title('Confusion Matrix - KNN')\n",
        "plt.show()\n",
        "print('\\n')"
      ]
    },
    {
      "cell_type": "code",
      "execution_count": 77,
      "metadata": {},
      "outputs": [
        {
          "name": "stdout",
          "output_type": "stream",
          "text": [
            "Decision Tree Classification Report:\n",
            "               precision    recall  f1-score   support\n",
            "\n",
            "         0.0    1.00000   1.00000   1.00000      1287\n",
            "         1.0    1.00000   1.00000   1.00000       247\n",
            "\n",
            "    accuracy                        1.00000      1534\n",
            "   macro avg    1.00000   1.00000   1.00000      1534\n",
            "weighted avg    1.00000   1.00000   1.00000      1534\n",
            "\n"
          ]
        },
        {
          "data": {
            "image/png": "[encoded data removed]",
            "text/plain": [
              "<Figure size 700x700 with 2 Axes>"
            ]
          },
          "metadata": {},
          "output_type": "display_data"
        },
        {
          "name": "stdout",
          "output_type": "stream",
          "text": [
            "\n",
            "\n"
          ]
        }
      ],
      "source": [
        "dt_pred = dt.predict(X_test)\n",
        "print(\"Decision Tree Classification Report:\\n\", classification_report(y_test, dt_pred, digits=5))\n",
        "\n",
        "dt_cm = confusion_matrix(y_test, dt_pred)\n",
        "plt.figure(figsize=(7, 7))\n",
        "sns.heatmap(dt_cm, annot=True, fmt=\"d\", cmap=\"Blues\", xticklabels=np.unique(y), yticklabels=np.unique(y))\n",
        "\n",
        "plt.xlabel('Predicted Labels')\n",
        "plt.ylabel('Actual Labels')\n",
        "plt.title('Confusion Matrix - Decision Tree')\n",
        "plt.show()\n",
        "print('\\n')"
      ]
    },
    {
      "cell_type": "code",
      "execution_count": 78,
      "metadata": {},
      "outputs": [
        {
          "name": "stdout",
          "output_type": "stream",
          "text": [
            "Random Forest Classification Report:\n",
            "               precision    recall  f1-score   support\n",
            "\n",
            "         0.0    1.00000   1.00000   1.00000      1287\n",
            "         1.0    1.00000   1.00000   1.00000       247\n",
            "\n",
            "    accuracy                        1.00000      1534\n",
            "   macro avg    1.00000   1.00000   1.00000      1534\n",
            "weighted avg    1.00000   1.00000   1.00000      1534\n",
            "\n"
          ]
        },
        {
          "data": {
            "image/png": "[encoded data removed]",
            "text/plain": [
              "<Figure size 700x700 with 2 Axes>"
            ]
          },
          "metadata": {},
          "output_type": "display_data"
        },
        {
          "name": "stdout",
          "output_type": "stream",
          "text": [
            "\n",
            "\n"
          ]
        }
      ],
      "source": [
        "rf_pred = rf.predict(X_test)\n",
        "print(\"Random Forest Classification Report:\\n\", classification_report(y_test, rf_pred, digits=5))\n",
        "\n",
        "rf_cm = confusion_matrix(y_test, rf_pred)\n",
        "plt.figure(figsize=(7, 7))\n",
        "sns.heatmap(rf_cm, annot=True, fmt=\"d\", cmap=\"Blues\", xticklabels=np.unique(y), yticklabels=np.unique(y))\n",
        "\n",
        "plt.xlabel('Predicted Labels')\n",
        "plt.ylabel('Actual Labels')\n",
        "plt.title('Confusion Matrix - Random Forest')\n",
        "plt.show()\n",
        "print('\\n')"
      ]
    },
    {
      "cell_type": "code",
      "execution_count": 79,
      "metadata": {},
      "outputs": [
        {
          "name": "stdout",
          "output_type": "stream",
          "text": [
            "SVM Classification Report:\n",
            "               precision    recall  f1-score   support\n",
            "\n",
            "         0.0    1.00000   0.99689   0.99844      1287\n",
            "         1.0    0.98406   1.00000   0.99197       247\n",
            "\n",
            "    accuracy                        0.99739      1534\n",
            "   macro avg    0.99203   0.99845   0.99521      1534\n",
            "weighted avg    0.99743   0.99739   0.99740      1534\n",
            "\n"
          ]
        },
        {
          "data": {
            "image/png": "[encoded data removed]",
            "text/plain": [
              "<Figure size 700x700 with 2 Axes>"
            ]
          },
          "metadata": {},
          "output_type": "display_data"
        },
        {
          "name": "stdout",
          "output_type": "stream",
          "text": [
            "\n",
            "\n"
          ]
        }
      ],
      "source": [
        "svm_pred = svm.predict(X_test)\n",
        "print(\"SVM Classification Report:\\n\", classification_report(y_test, svm_pred, digits=5))\n",
        "\n",
        "svm_cm = confusion_matrix(y_test, svm_pred)\n",
        "plt.figure(figsize=(7, 7))\n",
        "sns.heatmap(svm_cm, annot=True, fmt=\"d\", cmap=\"Blues\", xticklabels=np.unique(y), yticklabels=np.unique(y))\n",
        "\n",
        "plt.xlabel('Predicted Labels')\n",
        "plt.ylabel('Actual Labels')\n",
        "plt.title('Confusion Matrix - SVM')\n",
        "plt.show()\n",
        "print('\\n')"
      ]
    },
    {
      "cell_type": "code",
      "execution_count": 80,
      "metadata": {},
      "outputs": [
        {
          "name": "stdout",
          "output_type": "stream",
          "text": [
            "Naive Bayes Classification Report:\n",
            "               precision    recall  f1-score   support\n",
            "\n",
            "         0.0    1.00000   0.99068   0.99532      1287\n",
            "         1.0    0.95367   1.00000   0.97628       247\n",
            "\n",
            "    accuracy                        0.99218      1534\n",
            "   macro avg    0.97683   0.99534   0.98580      1534\n",
            "weighted avg    0.99254   0.99218   0.99225      1534\n",
            "\n"
          ]
        },
        {
          "data": {
            "image/png": "[encoded data removed]",
            "text/plain": [
              "<Figure size 700x700 with 2 Axes>"
            ]
          },
          "metadata": {},
          "output_type": "display_data"
        },
        {
          "name": "stdout",
          "output_type": "stream",
          "text": [
            "\n",
            "\n"
          ]
        }
      ],
      "source": [
        "nb_pred = nb.predict(X_test)\n",
        "print(\"Naive Bayes Classification Report:\\n\", classification_report(y_test, nb_pred, digits=5))\n",
        "\n",
        "nb_cm = confusion_matrix(y_test, nb_pred)\n",
        "plt.figure(figsize=(7, 7))\n",
        "sns.heatmap(nb_cm, annot=True, fmt=\"d\", cmap=\"Blues\", xticklabels=np.unique(y), yticklabels=np.unique(y))\n",
        "\n",
        "plt.xlabel('Predicted Labels')\n",
        "plt.ylabel('Actual Labels')\n",
        "plt.title('Confusion Matrix - Naive Bayes')\n",
        "plt.show()\n",
        "print('\\n')"
      ]
    },
    {
      "cell_type": "code",
      "execution_count": 81,
      "metadata": {},
      "outputs": [
        {
          "data": {
            "text/html": [
              "<div>\n",
              "<style scoped>\n",
              "    .dataframe tbody tr th:only-of-type {\n",
              "        vertical-align: middle;\n",
              "    }\n",
              "\n",
              "    .dataframe tbody tr th {\n",
              "        vertical-align: top;\n",
              "    }\n",
              "\n",
              "    .dataframe thead th {\n",
              "        text-align: right;\n",
              "    }\n",
              "</style>\n",
              "<table border=\"1\" class=\"dataframe\">\n",
              "  <thead>\n",
              "    <tr style=\"text-align: right;\">\n",
              "      <th></th>\n",
              "      <th>Model</th>\n",
              "      <th>Accuracy</th>\n",
              "      <th>Precision</th>\n",
              "      <th>Recall</th>\n",
              "      <th>F1-Score</th>\n",
              "    </tr>\n",
              "  </thead>\n",
              "  <tbody>\n",
              "    <tr>\n",
              "      <th>0</th>\n",
              "      <td>K-Nearest Neighbor</td>\n",
              "      <td>0.998044</td>\n",
              "      <td>0.998068</td>\n",
              "      <td>0.998044</td>\n",
              "      <td>0.998049</td>\n",
              "    </tr>\n",
              "    <tr>\n",
              "      <th>1</th>\n",
              "      <td>Decision Tree</td>\n",
              "      <td>1.000000</td>\n",
              "      <td>1.000000</td>\n",
              "      <td>1.000000</td>\n",
              "      <td>1.000000</td>\n",
              "    </tr>\n",
              "    <tr>\n",
              "      <th>2</th>\n",
              "      <td>Random Forest</td>\n",
              "      <td>1.000000</td>\n",
              "      <td>1.000000</td>\n",
              "      <td>1.000000</td>\n",
              "      <td>1.000000</td>\n",
              "    </tr>\n",
              "    <tr>\n",
              "      <th>3</th>\n",
              "      <td>Support Vector Machine</td>\n",
              "      <td>0.997392</td>\n",
              "      <td>0.997434</td>\n",
              "      <td>0.997392</td>\n",
              "      <td>0.997401</td>\n",
              "    </tr>\n",
              "    <tr>\n",
              "      <th>4</th>\n",
              "      <td>Naive Bayes</td>\n",
              "      <td>0.992177</td>\n",
              "      <td>0.992540</td>\n",
              "      <td>0.992177</td>\n",
              "      <td>0.992252</td>\n",
              "    </tr>\n",
              "  </tbody>\n",
              "</table>\n",
              "</div>"
            ],
            "text/plain": [
              "                    Model  Accuracy  Precision    Recall  F1-Score\n",
              "0      K-Nearest Neighbor  0.998044   0.998068  0.998044  0.998049\n",
              "1           Decision Tree  1.000000   1.000000  1.000000  1.000000\n",
              "2           Random Forest  1.000000   1.000000  1.000000  1.000000\n",
              "3  Support Vector Machine  0.997392   0.997434  0.997392  0.997401\n",
              "4             Naive Bayes  0.992177   0.992540  0.992177  0.992252"
            ]
          },
          "execution_count": 81,
          "metadata": {},
          "output_type": "execute_result"
        }
      ],
      "source": [
        "knn_report = classification_report(y_test, knn_pred, digits=5, output_dict=True)\n",
        "dt_report = classification_report(y_test, dt_pred, digits=5, output_dict=True)\n",
        "rf_report = classification_report(y_test, rf_pred, digits=5, output_dict=True)\n",
        "svm_report = classification_report(y_test, svm_pred, digits=5, output_dict=True)\n",
        "nb_report = classification_report(y_test, nb_pred, digits=5, output_dict=True)\n",
        "\n",
        "# Extract relevant metrics (accuracy, precision, recall, F1 score)\n",
        "metrics = {\n",
        "    'Model': ['K-Nearest Neighbor', 'Decision Tree', 'Random Forest', 'Support Vector Machine', 'Naive Bayes'],\n",
        "    'Accuracy': [knn_report['accuracy'], dt_report['accuracy'], rf_report['accuracy'], svm_report['accuracy'], nb_report['accuracy']],\n",
        "    'Precision': [knn_report['weighted avg']['precision'], dt_report['weighted avg']['precision'], rf_report['weighted avg']['precision'], svm_report['weighted avg']['precision'], nb_report['weighted avg']['precision']],\n",
        "    'Recall': [knn_report['weighted avg']['recall'], dt_report['weighted avg']['recall'], rf_report['weighted avg']['recall'], svm_report['weighted avg']['recall'], nb_report['weighted avg']['recall']],\n",
        "    'F1-Score': [knn_report['weighted avg']['f1-score'], dt_report['weighted avg']['f1-score'], rf_report['weighted avg']['f1-score'], svm_report['weighted avg']['f1-score'], nb_report['weighted avg']['f1-score']]\n",
        "}\n",
        "\n",
        "# Create a DataFrame\n",
        "df_untuned = pd.DataFrame(metrics)\n",
        "\n",
        "df_untuned"
      ]
    },
    {
      "cell_type": "markdown",
      "metadata": {
        "id": "ph9yIYDXEPuB"
      },
      "source": [
        "## **c. Tuning Model Klasifikasi (Optional)**"
      ]
    },
    {
      "cell_type": "markdown",
      "metadata": {
        "id": "-Bikx3LINv5e"
      },
      "source": [
        "Untuk Desicison Tree dan Random Forest, tidak dilakukan tuning karena nilai akurasi yang sudah maksimal."
      ]
    },
    {
      "cell_type": "code",
      "execution_count": 82,
      "metadata": {},
      "outputs": [
        {
          "name": "stdout",
          "output_type": "stream",
          "text": [
            "Fitting 3 folds for each of 50 candidates, totalling 150 fits\n",
            "[CV] END algorithm=kd_tree, leaf_size=45, n_neighbors=7, p=2, weights=distance; total time=   0.0s\n",
            "[CV] END algorithm=kd_tree, leaf_size=45, n_neighbors=7, p=2, weights=distance; total time=   0.0s\n",
            "[CV] END algorithm=kd_tree, leaf_size=45, n_neighbors=7, p=2, weights=distance; total time=   0.0s\n",
            "[CV] END algorithm=auto, leaf_size=10, n_neighbors=23, p=2, weights=distance; total time=   0.0s\n",
            "[CV] END algorithm=auto, leaf_size=10, n_neighbors=23, p=2, weights=distance; total time=   0.0s\n",
            "[CV] END algorithm=brute, leaf_size=15, n_neighbors=3, p=2, weights=uniform; total time=   0.1s\n",
            "[CV] END algorithm=brute, leaf_size=15, n_neighbors=3, p=2, weights=uniform; total time=   0.1s\n",
            "[CV] END algorithm=auto, leaf_size=10, n_neighbors=5, p=2, weights=distance; total time=   0.0s\n",
            "[CV] END algorithm=brute, leaf_size=15, n_neighbors=3, p=2, weights=uniform; total time=   0.1s\n",
            "[CV] END algorithm=auto, leaf_size=10, n_neighbors=23, p=2, weights=distance; total time=   0.0s\n",
            "[CV] END algorithm=brute, leaf_size=30, n_neighbors=11, p=2, weights=uniform; total time=   0.1s\n",
            "[CV] END algorithm=brute, leaf_size=30, n_neighbors=11, p=2, weights=uniform; total time=   0.1s\n",
            "[CV] END algorithm=auto, leaf_size=10, n_neighbors=5, p=2, weights=distance; total time=   0.0s\n",
            "[CV] END algorithm=kd_tree, leaf_size=35, n_neighbors=3, p=1, weights=distance; total time=   0.0s\n",
            "[CV] END algorithm=auto, leaf_size=10, n_neighbors=5, p=2, weights=distance; total time=   0.0s\n",
            "[CV] END algorithm=auto, leaf_size=20, n_neighbors=7, p=1, weights=distance; total time=   0.0s\n",
            "[CV] END algorithm=kd_tree, leaf_size=35, n_neighbors=3, p=1, weights=distance; total time=   0.0s\n",
            "[CV] END algorithm=kd_tree, leaf_size=35, n_neighbors=3, p=1, weights=distance; total time=   0.1s\n",
            "[CV] END algorithm=brute, leaf_size=30, n_neighbors=11, p=2, weights=uniform; total time=   0.1s\n",
            "[CV] END algorithm=auto, leaf_size=15, n_neighbors=7, p=1, weights=uniform; total time=   0.1s\n",
            "[CV] END algorithm=auto, leaf_size=20, n_neighbors=7, p=1, weights=distance; total time=   0.1s\n",
            "[CV] END algorithm=auto, leaf_size=20, n_neighbors=7, p=1, weights=distance; total time=   0.1s\n",
            "[CV] END algorithm=auto, leaf_size=15, n_neighbors=7, p=1, weights=uniform; total time=   0.1s\n",
            "[CV] END algorithm=auto, leaf_size=15, n_neighbors=7, p=1, weights=uniform; total time=   0.1s\n",
            "[CV] END algorithm=ball_tree, leaf_size=20, n_neighbors=7, p=2, weights=uniform; total time=   0.1s\n",
            "[CV] END algorithm=auto, leaf_size=15, n_neighbors=5, p=1, weights=distance; total time=   0.0s\n",
            "[CV] END algorithm=ball_tree, leaf_size=20, n_neighbors=7, p=2, weights=uniform; total time=   0.1s\n",
            "[CV] END algorithm=auto, leaf_size=15, n_neighbors=5, p=1, weights=distance; total time=   0.0s\n",
            "[CV] END algorithm=ball_tree, leaf_size=20, n_neighbors=7, p=2, weights=uniform; total time=   0.1s\n",
            "[CV] END algorithm=brute, leaf_size=10, n_neighbors=9, p=1, weights=uniform; total time=   0.1s\n",
            "[CV] END algorithm=auto, leaf_size=15, n_neighbors=5, p=1, weights=distance; total time=   0.0s\n",
            "[CV] END algorithm=brute, leaf_size=10, n_neighbors=9, p=1, weights=uniform; total time=   0.1s\n",
            "[CV] END algorithm=auto, leaf_size=25, n_neighbors=3, p=2, weights=distance; total time=   0.0s\n",
            "[CV] END algorithm=auto, leaf_size=25, n_neighbors=3, p=2, weights=distance; total time=   0.0s\n",
            "[CV] END algorithm=auto, leaf_size=25, n_neighbors=3, p=2, weights=distance; total time=   0.0s\n",
            "[CV] END algorithm=brute, leaf_size=10, n_neighbors=9, p=1, weights=uniform; total time=   0.2s\n",
            "[CV] END algorithm=kd_tree, leaf_size=15, n_neighbors=23, p=2, weights=uniform; total time=   0.1s\n",
            "[CV] END algorithm=kd_tree, leaf_size=15, n_neighbors=23, p=2, weights=uniform; total time=   0.1s\n",
            "[CV] END algorithm=auto, leaf_size=30, n_neighbors=23, p=2, weights=distance; total time=   0.0s\n",
            "[CV] END algorithm=kd_tree, leaf_size=15, n_neighbors=23, p=2, weights=uniform; total time=   0.1s\n",
            "[CV] END algorithm=auto, leaf_size=30, n_neighbors=23, p=2, weights=distance; total time=   0.0s\n",
            "[CV] END algorithm=auto, leaf_size=30, n_neighbors=23, p=2, weights=distance; total time=   0.0s\n",
            "[CV] END algorithm=ball_tree, leaf_size=15, n_neighbors=23, p=2, weights=distance; total time=   0.0s\n",
            "[CV] END algorithm=auto, leaf_size=30, n_neighbors=13, p=1, weights=uniform; total time=   0.1s\n",
            "[CV] END algorithm=kd_tree, leaf_size=15, n_neighbors=17, p=2, weights=distance; total time=   0.0s\n",
            "[CV] END algorithm=kd_tree, leaf_size=15, n_neighbors=17, p=2, weights=distance; total time=   0.0s\n",
            "[CV] END algorithm=auto, leaf_size=30, n_neighbors=13, p=1, weights=uniform; total time=   0.1s\n",
            "[CV] END algorithm=ball_tree, leaf_size=15, n_neighbors=23, p=2, weights=distance; total time=   0.1s\n",
            "[CV] END algorithm=ball_tree, leaf_size=15, n_neighbors=23, p=2, weights=distance; total time=   0.1s\n",
            "[CV] END algorithm=auto, leaf_size=30, n_neighbors=13, p=1, weights=uniform; total time=   0.1s\n",
            "[CV] END algorithm=kd_tree, leaf_size=15, n_neighbors=17, p=2, weights=distance; total time=   0.0s\n",
            "[CV] END algorithm=brute, leaf_size=15, n_neighbors=17, p=2, weights=distance; total time=   0.0s\n",
            "[CV] END algorithm=brute, leaf_size=15, n_neighbors=17, p=2, weights=distance; total time=   0.1s\n",
            "[CV] END algorithm=brute, leaf_size=15, n_neighbors=17, p=2, weights=distance; total time=   0.1s\n",
            "[CV] END algorithm=brute, leaf_size=45, n_neighbors=25, p=2, weights=distance; total time=   0.1s\n",
            "[CV] END algorithm=brute, leaf_size=45, n_neighbors=25, p=2, weights=distance; total time=   0.1s\n",
            "[CV] END algorithm=brute, leaf_size=25, n_neighbors=23, p=2, weights=uniform; total time=   0.1s\n",
            "[CV] END algorithm=brute, leaf_size=20, n_neighbors=29, p=1, weights=uniform; total time=   0.1s\n",
            "[CV] END algorithm=brute, leaf_size=45, n_neighbors=25, p=2, weights=distance; total time=   0.0s\n",
            "[CV] END algorithm=brute, leaf_size=20, n_neighbors=29, p=1, weights=uniform; total time=   0.2s\n",
            "[CV] END algorithm=brute, leaf_size=25, n_neighbors=23, p=2, weights=uniform; total time=   0.1s\n",
            "[CV] END algorithm=brute, leaf_size=20, n_neighbors=29, p=1, weights=uniform; total time=   0.2s\n",
            "[CV] END algorithm=kd_tree, leaf_size=35, n_neighbors=25, p=1, weights=distance; total time=   0.0s\n",
            "[CV] END algorithm=kd_tree, leaf_size=35, n_neighbors=25, p=1, weights=distance; total time=   0.1s\n",
            "[CV] END algorithm=kd_tree, leaf_size=45, n_neighbors=27, p=1, weights=uniform; total time=   0.1s\n",
            "[CV] END algorithm=brute, leaf_size=25, n_neighbors=23, p=2, weights=uniform; total time=   0.1s\n",
            "[CV] END algorithm=ball_tree, leaf_size=10, n_neighbors=13, p=1, weights=distance; total time=   0.0s\n",
            "[CV] END algorithm=kd_tree, leaf_size=45, n_neighbors=27, p=1, weights=uniform; total time=   0.1s\n",
            "[CV] END algorithm=kd_tree, leaf_size=40, n_neighbors=5, p=1, weights=distance; total time=   0.0s\n",
            "[CV] END algorithm=ball_tree, leaf_size=10, n_neighbors=13, p=1, weights=distance; total time=   0.1s\n",
            "[CV] END algorithm=ball_tree, leaf_size=10, n_neighbors=13, p=1, weights=distance; total time=   0.1s\n",
            "[CV] END algorithm=kd_tree, leaf_size=35, n_neighbors=25, p=1, weights=distance; total time=   0.1s\n",
            "[CV] END algorithm=kd_tree, leaf_size=40, n_neighbors=5, p=1, weights=distance; total time=   0.0s\n",
            "[CV] END algorithm=brute, leaf_size=10, n_neighbors=11, p=1, weights=uniform; total time=   0.1s\n",
            "[CV] END algorithm=kd_tree, leaf_size=45, n_neighbors=27, p=1, weights=uniform; total time=   0.1s\n",
            "[CV] END algorithm=kd_tree, leaf_size=40, n_neighbors=5, p=1, weights=distance; total time=   0.0s\n",
            "[CV] END algorithm=brute, leaf_size=10, n_neighbors=23, p=2, weights=distance; total time=   0.0s\n",
            "[CV] END algorithm=auto, leaf_size=40, n_neighbors=21, p=1, weights=uniform; total time=   0.1s\n",
            "[CV] END algorithm=brute, leaf_size=10, n_neighbors=11, p=1, weights=uniform; total time=   0.2s\n",
            "[CV] END algorithm=auto, leaf_size=40, n_neighbors=21, p=1, weights=uniform; total time=   0.1s\n",
            "[CV] END algorithm=brute, leaf_size=10, n_neighbors=23, p=2, weights=distance; total time=   0.0s\n",
            "[CV] END algorithm=auto, leaf_size=40, n_neighbors=15, p=2, weights=uniform; total time=   0.1s\n",
            "[CV] END algorithm=brute, leaf_size=10, n_neighbors=23, p=2, weights=distance; total time=   0.0s\n",
            "[CV] END algorithm=auto, leaf_size=15, n_neighbors=11, p=1, weights=uniform; total time=   0.1s\n",
            "[CV] END algorithm=ball_tree, leaf_size=40, n_neighbors=19, p=1, weights=uniform; total time=   0.1s\n",
            "[CV] END algorithm=ball_tree, leaf_size=40, n_neighbors=19, p=1, weights=uniform; total time=   0.1s\n",
            "[CV] END algorithm=kd_tree, leaf_size=35, n_neighbors=3, p=2, weights=uniform; total time=   0.1s\n",
            "[CV] END algorithm=auto, leaf_size=40, n_neighbors=21, p=1, weights=uniform; total time=   0.1s\n",
            "[CV] END algorithm=ball_tree, leaf_size=20, n_neighbors=1, p=2, weights=distance; total time=   0.0s\n",
            "[CV] END algorithm=brute, leaf_size=10, n_neighbors=11, p=1, weights=uniform; total time=   0.1s\n",
            "[CV] END algorithm=auto, leaf_size=40, n_neighbors=15, p=2, weights=uniform; total time=   0.1s\n",
            "[CV] END algorithm=ball_tree, leaf_size=20, n_neighbors=1, p=2, weights=distance; total time=   0.0s\n",
            "[CV] END algorithm=kd_tree, leaf_size=35, n_neighbors=3, p=2, weights=uniform; total time=   0.1s\n",
            "[CV] END algorithm=auto, leaf_size=40, n_neighbors=15, p=2, weights=uniform; total time=   0.1s\n",
            "[CV] END algorithm=ball_tree, leaf_size=30, n_neighbors=25, p=2, weights=uniform; total time=   0.1s\n",
            "[CV] END algorithm=brute, leaf_size=40, n_neighbors=7, p=2, weights=uniform; total time=   0.1s\n",
            "[CV] END algorithm=ball_tree, leaf_size=40, n_neighbors=19, p=1, weights=uniform; total time=   0.1s\n",
            "[CV] END algorithm=kd_tree, leaf_size=35, n_neighbors=3, p=2, weights=uniform; total time=   0.1s\n",
            "[CV] END algorithm=brute, leaf_size=40, n_neighbors=7, p=2, weights=uniform; total time=   0.1s\n",
            "[CV] END algorithm=auto, leaf_size=15, n_neighbors=11, p=1, weights=uniform; total time=   0.1s\n",
            "[CV] END algorithm=kd_tree, leaf_size=20, n_neighbors=27, p=1, weights=uniform; total time=   0.1s\n",
            "[CV] END algorithm=ball_tree, leaf_size=20, n_neighbors=1, p=2, weights=distance; total time=   0.0s\n",
            "[CV] END algorithm=auto, leaf_size=35, n_neighbors=11, p=1, weights=uniform; total time=   0.1s\n",
            "[CV] END algorithm=auto, leaf_size=20, n_neighbors=15, p=1, weights=uniform; total time=   0.1s\n",
            "[CV] END algorithm=ball_tree, leaf_size=30, n_neighbors=25, p=2, weights=uniform; total time=   0.1s\n",
            "[CV] END algorithm=brute, leaf_size=40, n_neighbors=7, p=2, weights=uniform; total time=   0.1s\n",
            "[CV] END algorithm=brute, leaf_size=15, n_neighbors=21, p=2, weights=uniform; total time=   0.1s\n",
            "[CV] END algorithm=kd_tree, leaf_size=20, n_neighbors=27, p=1, weights=uniform; total time=   0.1s\n",
            "[CV] END algorithm=ball_tree, leaf_size=10, n_neighbors=29, p=1, weights=distance; total time=   0.1s\n",
            "[CV] END algorithm=auto, leaf_size=20, n_neighbors=15, p=1, weights=uniform; total time=   0.1s\n",
            "[CV] END algorithm=brute, leaf_size=35, n_neighbors=17, p=2, weights=uniform; total time=   0.0s\n",
            "[CV] END algorithm=auto, leaf_size=35, n_neighbors=11, p=1, weights=uniform; total time=   0.1s\n",
            "[CV] END algorithm=ball_tree, leaf_size=10, n_neighbors=29, p=1, weights=distance; total time=   0.1s\n",
            "[CV] END algorithm=auto, leaf_size=15, n_neighbors=11, p=1, weights=uniform; total time=   0.1s\n",
            "[CV] END algorithm=ball_tree, leaf_size=30, n_neighbors=25, p=2, weights=uniform; total time=   0.1s\n",
            "[CV] END algorithm=ball_tree, leaf_size=10, n_neighbors=29, p=1, weights=distance; total time=   0.1s\n",
            "[CV] END algorithm=brute, leaf_size=35, n_neighbors=17, p=2, weights=uniform; total time=   0.1s\n",
            "[CV] END algorithm=kd_tree, leaf_size=20, n_neighbors=27, p=1, weights=uniform; total time=   0.1s\n",
            "[CV] END algorithm=auto, leaf_size=20, n_neighbors=15, p=1, weights=uniform; total time=   0.1s\n",
            "[CV] END algorithm=brute, leaf_size=15, n_neighbors=21, p=2, weights=uniform; total time=   0.1s\n",
            "[CV] END algorithm=ball_tree, leaf_size=15, n_neighbors=9, p=2, weights=uniform; total time=   0.1s\n",
            "[CV] END algorithm=ball_tree, leaf_size=15, n_neighbors=9, p=2, weights=uniform; total time=   0.1s\n",
            "[CV] END algorithm=brute, leaf_size=35, n_neighbors=17, p=2, weights=uniform; total time=   0.1s\n",
            "[CV] END algorithm=ball_tree, leaf_size=15, n_neighbors=9, p=2, weights=uniform; total time=   0.1s\n",
            "[CV] END algorithm=auto, leaf_size=35, n_neighbors=11, p=1, weights=uniform; total time=   0.1s\n",
            "[CV] END algorithm=brute, leaf_size=30, n_neighbors=29, p=2, weights=uniform; total time=   0.1s\n",
            "[CV] END algorithm=brute, leaf_size=30, n_neighbors=29, p=2, weights=uniform; total time=   0.1s\n",
            "[CV] END algorithm=brute, leaf_size=10, n_neighbors=3, p=1, weights=distance; total time=   0.1s\n",
            "[CV] END algorithm=brute, leaf_size=30, n_neighbors=29, p=2, weights=uniform; total time=   0.1s\n",
            "[CV] END algorithm=brute, leaf_size=15, n_neighbors=21, p=2, weights=uniform; total time=   0.1s\n",
            "[CV] END algorithm=brute, leaf_size=10, n_neighbors=3, p=1, weights=distance; total time=   0.1s\n",
            "[CV] END algorithm=kd_tree, leaf_size=20, n_neighbors=21, p=2, weights=distance; total time=   0.0s\n",
            "[CV] END algorithm=brute, leaf_size=10, n_neighbors=3, p=1, weights=distance; total time=   0.1s\n",
            "[CV] END algorithm=kd_tree, leaf_size=20, n_neighbors=21, p=2, weights=distance; total time=   0.0s\n",
            "[CV] END algorithm=kd_tree, leaf_size=15, n_neighbors=25, p=2, weights=distance; total time=   0.0s\n",
            "[CV] END algorithm=kd_tree, leaf_size=15, n_neighbors=25, p=2, weights=distance; total time=   0.0s\n",
            "[CV] END algorithm=kd_tree, leaf_size=20, n_neighbors=21, p=2, weights=distance; total time=   0.1s\n",
            "[CV] END algorithm=auto, leaf_size=45, n_neighbors=21, p=2, weights=distance; total time=   0.0s\n",
            "[CV] END algorithm=kd_tree, leaf_size=15, n_neighbors=25, p=2, weights=distance; total time=   0.1s\n",
            "[CV] END algorithm=auto, leaf_size=45, n_neighbors=21, p=2, weights=distance; total time=   0.1s\n",
            "[CV] END algorithm=auto, leaf_size=45, n_neighbors=21, p=2, weights=distance; total time=   0.1s\n",
            "[CV] END algorithm=brute, leaf_size=30, n_neighbors=1, p=1, weights=uniform; total time=   0.2s\n",
            "[CV] END algorithm=brute, leaf_size=30, n_neighbors=1, p=1, weights=uniform; total time=   0.2s\n",
            "[CV] END algorithm=kd_tree, leaf_size=15, n_neighbors=3, p=2, weights=distance; total time=   0.0s\n",
            "[CV] END algorithm=kd_tree, leaf_size=15, n_neighbors=3, p=2, weights=distance; total time=   0.0s\n",
            "[CV] END algorithm=kd_tree, leaf_size=15, n_neighbors=3, p=2, weights=distance; total time=   0.0s\n",
            "[CV] END algorithm=brute, leaf_size=30, n_neighbors=1, p=1, weights=uniform; total time=   0.2s\n",
            "[CV] END algorithm=auto, leaf_size=15, n_neighbors=5, p=1, weights=uniform; total time=   0.1s\n",
            "[CV] END algorithm=auto, leaf_size=15, n_neighbors=5, p=1, weights=uniform; total time=   0.1s\n",
            "[CV] END algorithm=auto, leaf_size=15, n_neighbors=5, p=1, weights=uniform; total time=   0.1s\n",
            "Best KNN parameters: {'weights': 'distance', 'p': 2, 'n_neighbors': np.int64(5), 'leaf_size': np.int64(10), 'algorithm': 'auto'}\n",
            "Best KNN score: 0.9977\n"
          ]
        }
      ],
      "source": [
        "# KNN Hyperparameter Tuning\n",
        "knn_param_dist = {\n",
        "    'n_neighbors': np.arange(1, 30, 2),\n",
        "    'weights': ['uniform', 'distance'],\n",
        "    'algorithm': ['auto', 'ball_tree', 'kd_tree', 'brute'],\n",
        "    'leaf_size': np.arange(10, 50, 5),\n",
        "    'p': [1, 2]\n",
        "}\n",
        "\n",
        "knn_random_search = RandomizedSearchCV(\n",
        "    estimator=KNeighborsClassifier(),\n",
        "    param_distributions=knn_param_dist,\n",
        "    n_iter=50,\n",
        "    cv=3,\n",
        "    verbose=2,\n",
        "    random_state=69,\n",
        "    n_jobs=-1\n",
        ")\n",
        "\n",
        "knn_random_search.fit(X_train, y_train)\n",
        "print(f\"Best KNN parameters: {knn_random_search.best_params_}\")\n",
        "print(f\"Best KNN score: {knn_random_search.best_score_:.4f}\")"
      ]
    },
    {
      "cell_type": "code",
      "execution_count": 83,
      "metadata": {},
      "outputs": [
        {
          "name": "stdout",
          "output_type": "stream",
          "text": [
            "Fitting 3 folds for each of 50 candidates, totalling 150 fits\n",
            "[CV] END C=1000.0, class_weight=balanced, degree=3, gamma=0.01, kernel=rbf; total time=   0.1s\n",
            "[CV] END C=1000.0, class_weight=balanced, degree=3, gamma=0.01, kernel=rbf; total time=   0.1s\n",
            "[CV] END C=1000.0, class_weight=balanced, degree=3, gamma=0.01, kernel=rbf; total time=   0.1s\n",
            "[CV] END C=1.0, class_weight=None, degree=2, gamma=1.0, kernel=rbf; total time=   0.1s\n",
            "[CV] END C=1.0, class_weight=None, degree=2, gamma=1.0, kernel=rbf; total time=   0.1s\n",
            "[CV] END C=10.0, class_weight=balanced, degree=2, gamma=1000.0, kernel=linear; total time=   0.0s\n",
            "[CV] END C=1.0, class_weight=None, degree=2, gamma=1.0, kernel=rbf; total time=   0.1s\n",
            "[CV] END C=10.0, class_weight=balanced, degree=2, gamma=1000.0, kernel=linear; total time=   0.0s\n",
            "[CV] END C=10.0, class_weight=balanced, degree=2, gamma=1000.0, kernel=linear; total time=   0.1s\n",
            "[CV] END C=0.1, class_weight=None, degree=5, gamma=10.0, kernel=rbf; total time=   0.5s\n",
            "[CV] END C=10.0, class_weight=None, degree=3, gamma=0.01, kernel=rbf; total time=   0.1s\n",
            "[CV] END C=0.1, class_weight=None, degree=5, gamma=10.0, kernel=rbf; total time=   0.7s\n",
            "[CV] END C=10.0, class_weight=None, degree=3, gamma=0.01, kernel=rbf; total time=   0.1s\n",
            "[CV] END C=10.0, class_weight=None, degree=3, gamma=0.01, kernel=rbf; total time=   0.1s\n",
            "[CV] END C=0.1, class_weight=None, degree=5, gamma=10.0, kernel=rbf; total time=   0.5s\n",
            "[CV] END C=0.01, class_weight=balanced, degree=5, gamma=0.01, kernel=rbf; total time=   3.4s\n",
            "[CV] END C=0.01, class_weight=balanced, degree=5, gamma=0.01, kernel=rbf; total time=   3.4s\n",
            "[CV] END C=1000.0, class_weight=balanced, degree=2, gamma=0.001, kernel=sigmoid; total time=   0.1s\n",
            "[CV] END C=1000.0, class_weight=balanced, degree=2, gamma=0.001, kernel=sigmoid; total time=   0.1s\n",
            "[CV] END C=1000.0, class_weight=balanced, degree=2, gamma=0.001, kernel=sigmoid; total time=   0.2s\n",
            "[CV] END C=0.01, class_weight=balanced, degree=5, gamma=0.01, kernel=rbf; total time=   3.8s\n",
            "[CV] END C=10.0, class_weight=balanced, degree=2, gamma=10.0, kernel=sigmoid; total time=   2.8s\n",
            "[CV] END C=10.0, class_weight=balanced, degree=2, gamma=10.0, kernel=sigmoid; total time=   2.9s\n",
            "[CV] END C=0.001, class_weight=None, degree=3, gamma=auto, kernel=sigmoid; total time=   1.1s\n",
            "[CV] END C=100.0, class_weight=None, degree=5, gamma=1000.0, kernel=rbf; total time=   4.6s\n",
            "[CV] END C=100.0, class_weight=None, degree=5, gamma=1000.0, kernel=rbf; total time=   4.8s\n",
            "[CV] END C=0.001, class_weight=None, degree=3, gamma=auto, kernel=sigmoid; total time=   1.2s\n",
            "[CV] END C=100.0, class_weight=None, degree=5, gamma=1000.0, kernel=rbf; total time=   4.9s\n",
            "[CV] END C=0.01, class_weight=None, degree=5, gamma=scale, kernel=sigmoid; total time=   1.1s\n",
            "[CV] END C=1.0, class_weight=None, degree=3, gamma=0.1, kernel=linear; total time=   0.1s\n",
            "[CV] END C=0.01, class_weight=None, degree=5, gamma=scale, kernel=sigmoid; total time=   1.0s\n",
            "[CV] END C=1.0, class_weight=None, degree=3, gamma=0.1, kernel=linear; total time=   0.1s\n",
            "[CV] END C=0.001, class_weight=None, degree=4, gamma=auto, kernel=linear; total time=   0.5s\n",
            "[CV] END C=1.0, class_weight=None, degree=4, gamma=10.0, kernel=poly; total time=   0.1s\n",
            "[CV] END C=1.0, class_weight=None, degree=4, gamma=10.0, kernel=poly; total time=   0.1s\n",
            "[CV] END C=0.001, class_weight=None, degree=4, gamma=auto, kernel=linear; total time=   0.4s\n",
            "[CV] END C=1.0, class_weight=None, degree=3, gamma=0.1, kernel=linear; total time=   0.0s\n",
            "[CV] END C=1.0, class_weight=None, degree=4, gamma=10.0, kernel=poly; total time=   0.1s\n",
            "[CV] END C=100.0, class_weight=balanced, degree=5, gamma=10.0, kernel=linear; total time=   0.1s\n",
            "[CV] END C=100.0, class_weight=balanced, degree=5, gamma=10.0, kernel=linear; total time=   0.1s\n",
            "[CV] END C=100.0, class_weight=balanced, degree=5, gamma=10.0, kernel=linear; total time=   0.1s\n",
            "[CV] END C=100.0, class_weight=None, degree=4, gamma=10.0, kernel=sigmoid; total time=   0.9s\n",
            "[CV] END C=0.001, class_weight=None, degree=4, gamma=auto, kernel=linear; total time=   0.5s\n",
            "[CV] END C=0.01, class_weight=None, degree=5, gamma=scale, kernel=sigmoid; total time=   1.0s\n",
            "[CV] END C=1.0, class_weight=balanced, degree=5, gamma=1.0, kernel=poly; total time=   0.1s\n",
            "[CV] END C=0.001, class_weight=None, degree=3, gamma=auto, kernel=sigmoid; total time=   1.2s\n",
            "[CV] END C=100.0, class_weight=None, degree=4, gamma=10.0, kernel=sigmoid; total time=   1.0s\n",
            "[CV] END C=1.0, class_weight=balanced, degree=5, gamma=1.0, kernel=poly; total time=   0.1s\n",
            "[CV] END C=1.0, class_weight=balanced, degree=5, gamma=1.0, kernel=poly; total time=   0.1s\n",
            "[CV] END C=100.0, class_weight=None, degree=4, gamma=10.0, kernel=sigmoid; total time=   1.1s\n",
            "[CV] END C=10.0, class_weight=balanced, degree=2, gamma=100.0, kernel=linear; total time=   0.1s\n",
            "[CV] END C=10.0, class_weight=balanced, degree=2, gamma=100.0, kernel=linear; total time=   0.1s\n",
            "[CV] END C=10.0, class_weight=balanced, degree=2, gamma=100.0, kernel=linear; total time=   0.1s\n",
            "[CV] END C=10.0, class_weight=balanced, degree=2, gamma=10.0, kernel=sigmoid; total time=   2.7s\n",
            "[CV] END C=0.01, class_weight=balanced, degree=3, gamma=1000.0, kernel=sigmoid; total time=   1.9s\n",
            "[CV] END C=0.01, class_weight=balanced, degree=3, gamma=1000.0, kernel=sigmoid; total time=   1.9s\n",
            "[CV] END C=0.01, class_weight=balanced, degree=3, gamma=1000.0, kernel=sigmoid; total time=   2.0s\n",
            "[CV] END C=1000.0, class_weight=None, degree=2, gamma=10.0, kernel=sigmoid; total time=   1.0s\n",
            "[CV] END C=0.01, class_weight=balanced, degree=5, gamma=1.0, kernel=poly; total time=   0.3s\n",
            "[CV] END C=0.01, class_weight=balanced, degree=5, gamma=1.0, kernel=poly; total time=   0.3s\n",
            "[CV] END C=0.01, class_weight=balanced, degree=5, gamma=1.0, kernel=poly; total time=   0.5s\n",
            "[CV] END C=1000.0, class_weight=None, degree=2, gamma=10.0, kernel=sigmoid; total time=   1.1s\n",
            "[CV] END C=1000.0, class_weight=None, degree=2, gamma=10.0, kernel=sigmoid; total time=   1.0s\n",
            "[CV] END C=10.0, class_weight=balanced, degree=2, gamma=0.01, kernel=linear; total time=   0.1s\n",
            "[CV] END C=10.0, class_weight=balanced, degree=2, gamma=0.01, kernel=linear; total time=   0.0s\n",
            "[CV] END C=10.0, class_weight=balanced, degree=2, gamma=0.01, kernel=linear; total time=   0.1s\n",
            "[CV] END C=1000.0, class_weight=None, degree=4, gamma=0.1, kernel=rbf; total time=   0.1s\n",
            "[CV] END C=1000.0, class_weight=None, degree=4, gamma=0.1, kernel=rbf; total time=   0.1s\n",
            "[CV] END C=1000.0, class_weight=None, degree=4, gamma=0.1, kernel=rbf; total time=   0.1s\n",
            "[CV] END C=0.1, class_weight=None, degree=5, gamma=0.1, kernel=sigmoid; total time=   0.7s\n",
            "[CV] END C=0.1, class_weight=None, degree=5, gamma=0.1, kernel=sigmoid; total time=   0.9s\n",
            "[CV] END C=0.1, class_weight=None, degree=5, gamma=0.1, kernel=sigmoid; total time=   0.7s\n",
            "[CV] END C=0.001, class_weight=balanced, degree=2, gamma=auto, kernel=rbf; total time=   3.4s\n",
            "[CV] END C=0.001, class_weight=balanced, degree=2, gamma=auto, kernel=rbf; total time=   3.4s\n",
            "[CV] END C=0.001, class_weight=None, degree=3, gamma=1.0, kernel=rbf; total time=   1.1s\n",
            "[CV] END C=0.01, class_weight=None, degree=4, gamma=scale, kernel=rbf; total time=   0.9s\n",
            "[CV] END C=0.001, class_weight=None, degree=3, gamma=1.0, kernel=rbf; total time=   1.2s\n",
            "[CV] END C=0.001, class_weight=None, degree=3, gamma=1.0, kernel=rbf; total time=   1.3s\n",
            "[CV] END C=0.001, class_weight=balanced, degree=2, gamma=auto, kernel=rbf; total time=   3.7s\n",
            "[CV] END C=1000.0, class_weight=balanced, degree=2, gamma=1.0, kernel=rbf; total time=   0.1s\n",
            "[CV] END C=1000.0, class_weight=balanced, degree=2, gamma=1.0, kernel=rbf; total time=   0.1s\n",
            "[CV] END C=0.01, class_weight=None, degree=4, gamma=scale, kernel=rbf; total time=   0.8s\n",
            "[CV] END C=1000.0, class_weight=balanced, degree=2, gamma=1.0, kernel=rbf; total time=   0.1s\n",
            "[CV] END C=0.01, class_weight=None, degree=3, gamma=scale, kernel=poly; total time=   0.1s\n",
            "[CV] END C=0.01, class_weight=None, degree=3, gamma=scale, kernel=poly; total time=   0.2s\n",
            "[CV] END C=0.001, class_weight=None, degree=4, gamma=100.0, kernel=linear; total time=   0.4s\n",
            "[CV] END C=0.01, class_weight=None, degree=3, gamma=scale, kernel=poly; total time=   0.1s\n",
            "[CV] END C=0.001, class_weight=None, degree=4, gamma=100.0, kernel=linear; total time=   0.5s\n",
            "[CV] END C=0.001, class_weight=None, degree=3, gamma=100.0, kernel=poly; total time=   0.1s\n",
            "[CV] END C=0.001, class_weight=None, degree=3, gamma=100.0, kernel=poly; total time=   0.1s\n",
            "[CV] END C=0.001, class_weight=None, degree=4, gamma=100.0, kernel=linear; total time=   0.5s\n",
            "[CV] END C=0.001, class_weight=None, degree=3, gamma=100.0, kernel=poly; total time=   0.1s\n",
            "[CV] END C=0.01, class_weight=None, degree=4, gamma=scale, kernel=rbf; total time=   0.9s\n",
            "[CV] END C=0.01, class_weight=None, degree=4, gamma=0.001, kernel=poly; total time=   0.5s\n",
            "[CV] END C=0.01, class_weight=None, degree=4, gamma=0.001, kernel=poly; total time=   0.7s\n",
            "[CV] END C=0.01, class_weight=None, degree=4, gamma=0.001, kernel=poly; total time=   0.7s\n",
            "[CV] END C=100.0, class_weight=balanced, degree=3, gamma=100.0, kernel=poly; total time=   0.1s\n",
            "[CV] END C=0.01, class_weight=None, degree=5, gamma=0.001, kernel=poly; total time=   0.6s\n",
            "[CV] END C=0.01, class_weight=None, degree=5, gamma=0.001, kernel=poly; total time=   0.6s\n",
            "[CV] END C=1.0, class_weight=None, degree=4, gamma=1000.0, kernel=sigmoid; total time=   0.5s\n",
            "[CV] END C=0.01, class_weight=None, degree=5, gamma=0.001, kernel=poly; total time=   0.6s\n",
            "[CV] END C=1000.0, class_weight=None, degree=2, gamma=scale, kernel=poly; total time=   0.1s\n",
            "[CV] END C=1000.0, class_weight=None, degree=2, gamma=scale, kernel=poly; total time=   0.1s\n",
            "[CV] END C=100.0, class_weight=balanced, degree=3, gamma=100.0, kernel=poly; total time=   0.1s\n",
            "[CV] END C=100.0, class_weight=balanced, degree=3, gamma=100.0, kernel=poly; total time=   0.1s\n",
            "[CV] END C=1000.0, class_weight=None, degree=2, gamma=scale, kernel=poly; total time=   0.1s\n",
            "[CV] END C=100.0, class_weight=None, degree=4, gamma=1.0, kernel=rbf; total time=   0.1s\n",
            "[CV] END C=100.0, class_weight=None, degree=4, gamma=1.0, kernel=rbf; total time=   0.1s\n",
            "[CV] END C=100.0, class_weight=None, degree=4, gamma=1.0, kernel=rbf; total time=   0.1s\n",
            "[CV] END C=1.0, class_weight=None, degree=4, gamma=1000.0, kernel=sigmoid; total time=   0.5s\n",
            "[CV] END C=0.1, class_weight=balanced, degree=5, gamma=0.001, kernel=linear; total time=   0.2s\n",
            "[CV] END C=0.1, class_weight=balanced, degree=5, gamma=0.001, kernel=linear; total time=   0.1s\n",
            "[CV] END C=1.0, class_weight=None, degree=4, gamma=1000.0, kernel=sigmoid; total time=   0.5s\n",
            "[CV] END C=0.1, class_weight=balanced, degree=5, gamma=0.001, kernel=linear; total time=   0.2s\n",
            "[CV] END C=0.001, class_weight=None, degree=2, gamma=1000.0, kernel=linear; total time=   0.5s\n",
            "[CV] END C=0.001, class_weight=None, degree=2, gamma=1000.0, kernel=linear; total time=   0.5s\n",
            "[CV] END C=0.001, class_weight=None, degree=2, gamma=1000.0, kernel=linear; total time=   0.5s\n",
            "[CV] END C=0.1, class_weight=balanced, degree=2, gamma=1000.0, kernel=linear; total time=   0.2s\n",
            "[CV] END C=10.0, class_weight=None, degree=5, gamma=0.001, kernel=linear; total time=   0.0s\n",
            "[CV] END C=10.0, class_weight=None, degree=5, gamma=0.001, kernel=linear; total time=   0.1s\n",
            "[CV] END C=0.1, class_weight=balanced, degree=2, gamma=1000.0, kernel=linear; total time=   0.3s\n",
            "[CV] END C=10.0, class_weight=None, degree=5, gamma=0.001, kernel=linear; total time=   0.0s\n",
            "[CV] END C=1000.0, class_weight=None, degree=3, gamma=10.0, kernel=poly; total time=   0.1s\n",
            "[CV] END C=1000.0, class_weight=None, degree=3, gamma=10.0, kernel=poly; total time=   0.1s\n",
            "[CV] END C=0.1, class_weight=balanced, degree=2, gamma=1000.0, kernel=linear; total time=   0.2s\n",
            "[CV] END C=1000.0, class_weight=None, degree=3, gamma=10.0, kernel=poly; total time=   0.1s\n",
            "[CV] END C=0.1, class_weight=balanced, degree=5, gamma=100.0, kernel=poly; total time=   0.1s\n",
            "[CV] END C=0.1, class_weight=None, degree=4, gamma=10.0, kernel=rbf; total time=   0.5s\n",
            "[CV] END C=0.1, class_weight=None, degree=4, gamma=10.0, kernel=rbf; total time=   0.6s\n",
            "[CV] END C=0.1, class_weight=balanced, degree=5, gamma=100.0, kernel=poly; total time=   0.1s\n",
            "[CV] END C=0.1, class_weight=balanced, degree=5, gamma=100.0, kernel=poly; total time=   0.2s\n",
            "[CV] END C=0.1, class_weight=None, degree=4, gamma=10.0, kernel=rbf; total time=   0.6s\n",
            "[CV] END C=1.0, class_weight=balanced, degree=3, gamma=10.0, kernel=poly; total time=   0.1s\n",
            "[CV] END C=1.0, class_weight=balanced, degree=3, gamma=10.0, kernel=poly; total time=   0.1s\n",
            "[CV] END C=1.0, class_weight=balanced, degree=3, gamma=10.0, kernel=poly; total time=   0.1s\n",
            "[CV] END C=10.0, class_weight=balanced, degree=4, gamma=10.0, kernel=rbf; total time=   0.3s\n",
            "[CV] END C=10.0, class_weight=balanced, degree=4, gamma=10.0, kernel=rbf; total time=   0.4s\n",
            "[CV] END C=10.0, class_weight=balanced, degree=4, gamma=10.0, kernel=rbf; total time=   0.4s\n",
            "[CV] END C=0.001, class_weight=None, degree=2, gamma=auto, kernel=linear; total time=   0.5s\n",
            "[CV] END C=0.001, class_weight=None, degree=2, gamma=auto, kernel=linear; total time=   0.5s\n",
            "[CV] END C=0.001, class_weight=None, degree=2, gamma=auto, kernel=linear; total time=   0.5s\n",
            "[CV] END C=0.1, class_weight=None, degree=3, gamma=100.0, kernel=sigmoid; total time=   0.5s\n",
            "[CV] END C=0.1, class_weight=None, degree=3, gamma=100.0, kernel=sigmoid; total time=   0.6s\n",
            "[CV] END C=0.1, class_weight=None, degree=3, gamma=100.0, kernel=sigmoid; total time=   0.6s\n",
            "[CV] END C=1000.0, class_weight=balanced, degree=4, gamma=scale, kernel=sigmoid; total time=   2.3s\n",
            "[CV] END C=1000.0, class_weight=balanced, degree=4, gamma=scale, kernel=sigmoid; total time=   2.3s\n",
            "[CV] END C=1000.0, class_weight=balanced, degree=4, gamma=scale, kernel=sigmoid; total time=   2.3s\n",
            "[CV] END C=0.001, class_weight=balanced, degree=3, gamma=scale, kernel=sigmoid; total time=   3.1s\n",
            "[CV] END C=0.001, class_weight=balanced, degree=3, gamma=scale, kernel=sigmoid; total time=   3.0s\n",
            "[CV] END C=0.001, class_weight=balanced, degree=3, gamma=scale, kernel=sigmoid; total time=   3.1s\n",
            "Best SVM parameters: {'kernel': 'rbf', 'gamma': np.float64(0.1), 'degree': 4, 'class_weight': None, 'C': np.float64(1000.0)}\n",
            "Best SVM score: 0.9995\n"
          ]
        }
      ],
      "source": [
        "# SVM Hyperparameter Tuning\n",
        "svm_param_dist = {\n",
        "    'C': np.logspace(-3, 3, 7),\n",
        "    'kernel': ['linear', 'poly', 'rbf', 'sigmoid'],\n",
        "    'gamma': ['scale', 'auto'] + list(np.logspace(-3, 3, 7)),\n",
        "    'degree': [2, 3, 4, 5],\n",
        "    'class_weight': ['balanced', None]\n",
        "}\n",
        "\n",
        "svm_random_search = RandomizedSearchCV(\n",
        "    estimator=SVC(random_state=69, probability=True),\n",
        "    param_distributions=svm_param_dist,\n",
        "    n_iter=50,\n",
        "    cv=3,\n",
        "    verbose=2,\n",
        "    random_state=69,\n",
        "    n_jobs=-1\n",
        ")\n",
        "\n",
        "svm_random_search.fit(X_train, y_train)\n",
        "print(f\"Best SVM parameters: {svm_random_search.best_params_}\")\n",
        "print(f\"Best SVM score: {svm_random_search.best_score_:.4f}\")"
      ]
    },
    {
      "cell_type": "code",
      "execution_count": 84,
      "metadata": {},
      "outputs": [
        {
          "name": "stdout",
          "output_type": "stream",
          "text": [
            "Fitting 3 folds for each of 30 candidates, totalling 90 fits\n",
            "[CV] END ................................var_smoothing=1e-10; total time=   0.0s\n",
            "[CV] END ................................var_smoothing=1e-10; total time=   0.0s\n",
            "[CV] END ................................var_smoothing=1e-10; total time=   0.0s\n",
            "[CV] END ...............var_smoothing=1.1721022975334794e-10; total time=   0.0s\n",
            "[CV] END ................var_smoothing=1.373823795883261e-10; total time=   0.0s\n",
            "[CV] END ...............var_smoothing=1.1721022975334794e-10; total time=   0.0s\n",
            "[CV] END ................var_smoothing=1.373823795883261e-10; total time=   0.0s\n",
            "[CV] END ...............var_smoothing=1.6102620275609427e-10; total time=   0.0s\n",
            "[CV] END ...............var_smoothing=1.1721022975334794e-10; total time=   0.0s\n",
            "[CV] END ...............var_smoothing=1.6102620275609427e-10; total time=   0.0s\n",
            "[CV] END ...............var_smoothing=1.6102620275609427e-10; total time=   0.0s\n",
            "[CV] END ................var_smoothing=1.373823795883261e-10; total time=   0.0s\n",
            "[CV] END ...............var_smoothing=1.8873918221350996e-10; total time=   0.0s\n",
            "[CV] END ...............var_smoothing=1.8873918221350996e-10; total time=   0.0s\n",
            "[CV] END ...............var_smoothing=1.8873918221350996e-10; total time=   0.0s\n",
            "[CV] END ...............var_smoothing=2.2122162910704502e-10; total time=   0.0s\n",
            "[CV] END ...............var_smoothing=2.2122162910704502e-10; total time=   0.0s\n",
            "[CV] END ...............var_smoothing=2.2122162910704502e-10; total time=   0.0s\n",
            "[CV] END ................var_smoothing=2.592943797404667e-10; total time=   0.0s\n",
            "[CV] END ................var_smoothing=2.592943797404667e-10; total time=   0.0s\n",
            "[CV] END ................var_smoothing=3.039195382313195e-10; total time=   0.0s\n",
            "[CV] END ................var_smoothing=2.592943797404667e-10; total time=   0.0s\n",
            "[CV] END ................var_smoothing=3.039195382313195e-10; total time=   0.0s\n",
            "[CV] END ................var_smoothing=3.039195382313195e-10; total time=   0.0s\n",
            "[CV] END ................var_smoothing=3.562247890262437e-10; total time=   0.0s\n",
            "[CV] END ................var_smoothing=3.562247890262437e-10; total time=   0.0s\n",
            "[CV] END ................var_smoothing=4.175318936560409e-10; total time=   0.0s\n",
            "[CV] END ................var_smoothing=4.893900918477499e-10; total time=   0.0s\n",
            "[CV] END ................var_smoothing=4.175318936560409e-10; total time=   0.0s\n",
            "[CV] END ................var_smoothing=3.562247890262437e-10; total time=   0.0s\n",
            "[CV] END ................var_smoothing=4.893900918477499e-10; total time=   0.0s\n",
            "[CV] END ................var_smoothing=4.893900918477499e-10; total time=   0.0s\n",
            "[CV] END ................var_smoothing=5.736152510448681e-10; total time=   0.0s\n",
            "[CV] END ................var_smoothing=5.736152510448681e-10; total time=   0.0s\n",
            "[CV] END ................var_smoothing=4.175318936560409e-10; total time=   0.0s\n",
            "[CV] END ................var_smoothing=6.723357536499335e-10; total time=   0.0s\n",
            "[CV] END ................var_smoothing=5.736152510448681e-10; total time=   0.0s\n",
            "[CV] END ................var_smoothing=6.723357536499335e-10; total time=   0.0s\n",
            "[CV] END ................var_smoothing=6.723357536499335e-10; total time=   0.0s\n",
            "[CV] END ................var_smoothing=7.880462815669904e-10; total time=   0.0s\n",
            "[CV] END ................var_smoothing=7.880462815669904e-10; total time=   0.0s\n",
            "[CV] END ................var_smoothing=9.236708571873847e-10; total time=   0.0s\n",
            "[CV] END ................var_smoothing=7.880462815669904e-10; total time=   0.0s\n",
            "[CV] END ................var_smoothing=9.236708571873847e-10; total time=   0.0s\n",
            "[CV] END ................var_smoothing=9.236708571873847e-10; total time=   0.0s\n",
            "[CV] END ...............var_smoothing=1.0826367338740564e-09; total time=   0.0s\n",
            "[CV] END ...............var_smoothing=1.0826367338740564e-09; total time=   0.0s\n",
            "[CV] END ...............var_smoothing=1.2689610031679233e-09; total time=   0.0s\n",
            "[CV] END ................var_smoothing=1.487352107293512e-09; total time=   0.0s\n",
            "[CV] END ...............var_smoothing=1.0826367338740564e-09; total time=   0.0s\n",
            "[CV] END ...............var_smoothing=1.2689610031679233e-09; total time=   0.0s\n",
            "[CV] END ...............var_smoothing=1.7433288221999873e-09; total time=   0.0s\n",
            "[CV] END ................var_smoothing=1.487352107293512e-09; total time=   0.0s\n",
            "[CV] END ................var_smoothing=2.395026619987491e-09; total time=   0.0s\n",
            "[CV] END ...............var_smoothing=1.2689610031679233e-09; total time=   0.0s\n",
            "[CV] END ...............var_smoothing=2.0433597178569395e-09; total time=   0.0s\n",
            "[CV] END ...............var_smoothing=1.7433288221999873e-09; total time=   0.0s\n",
            "[CV] END ................var_smoothing=1.487352107293512e-09; total time=   0.0s\n",
            "[CV] END ...............var_smoothing=2.8072162039411812e-09; total time=   0.0s\n",
            "[CV] END ................var_smoothing=2.395026619987491e-09; total time=   0.0s\n",
            "[CV] END ...............var_smoothing=2.0433597178569395e-09; total time=   0.0s\n",
            "[CV] END ................var_smoothing=2.395026619987491e-09; total time=   0.0s\n",
            "[CV] END ...............var_smoothing=1.7433288221999873e-09; total time=   0.0s\n",
            "[CV] END ...............var_smoothing=2.8072162039411812e-09; total time=   0.0s\n",
            "[CV] END ...............var_smoothing=2.0433597178569395e-09; total time=   0.0s\n",
            "[CV] END ...............var_smoothing=2.8072162039411812e-09; total time=   0.0s\n",
            "[CV] END ................var_smoothing=3.290344562312671e-09; total time=   0.0s\n",
            "[CV] END ................var_smoothing=3.290344562312671e-09; total time=   0.0s\n",
            "[CV] END ................var_smoothing=4.520353656360241e-09; total time=   0.0s\n",
            "[CV] END ................var_smoothing=3.290344562312671e-09; total time=   0.0s\n",
            "[CV] END ................var_smoothing=3.856620421163472e-09; total time=   0.0s\n",
            "[CV] END ................var_smoothing=4.520353656360241e-09; total time=   0.0s\n",
            "[CV] END ................var_smoothing=3.856620421163472e-09; total time=   0.0s\n",
            "[CV] END ................var_smoothing=5.298316906283702e-09; total time=   0.0s\n",
            "[CV] END ................var_smoothing=3.856620421163472e-09; total time=   0.0s\n",
            "[CV] END ................var_smoothing=4.520353656360241e-09; total time=   0.0s\n",
            "[CV] END ................var_smoothing=6.210169418915603e-09; total time=   0.0s\n",
            "[CV] END ................var_smoothing=5.298316906283702e-09; total time=   0.0s\n",
            "[CV] END ................var_smoothing=5.298316906283702e-09; total time=   0.0s[CV] END ................var_smoothing=7.278953843983161e-09; total time=   0.0s\n",
            "\n",
            "[CV] END ................var_smoothing=6.210169418915603e-09; total time=   0.0s\n",
            "[CV] END ................var_smoothing=6.210169418915603e-09; total time=   0.0s\n",
            "[CV] END ................var_smoothing=7.278953843983161e-09; total time=   0.0s\n",
            "[CV] END ................var_smoothing=8.531678524172815e-09; total time=   0.0s\n",
            "[CV] END ................var_smoothing=8.531678524172815e-09; total time=   0.0s\n",
            "[CV] END ................var_smoothing=8.531678524172815e-09; total time=   0.0s\n",
            "[CV] END ................var_smoothing=7.278953843983161e-09; total time=   0.0s\n",
            "[CV] END ................................var_smoothing=1e-08; total time=   0.0s\n",
            "[CV] END ................................var_smoothing=1e-08; total time=   0.0s\n",
            "[CV] END ................................var_smoothing=1e-08; total time=   0.0s\n",
            "Best Naive Bayes parameters: {'var_smoothing': np.float64(1e-10)}\n",
            "Best Naive Bayes score: 0.9883\n"
          ]
        }
      ],
      "source": [
        "# Naive Bayes Hyperparameter Tuning\n",
        "nb_param_dist = {\n",
        "    'var_smoothing': np.logspace(-10, -8, 30)\n",
        "}\n",
        "\n",
        "nb_random_search = RandomizedSearchCV(\n",
        "    estimator=GaussianNB(),\n",
        "    param_distributions=nb_param_dist,\n",
        "    n_iter=30,\n",
        "    cv=3,\n",
        "    verbose=2,\n",
        "    random_state=69,\n",
        "    n_jobs=-1\n",
        ")\n",
        "\n",
        "nb_random_search.fit(X_train, y_train)\n",
        "print(f\"Best Naive Bayes parameters: {nb_random_search.best_params_}\")\n",
        "print(f\"Best Naive Bayes score: {nb_random_search.best_score_:.4f}\")"
      ]
    },
    {
      "cell_type": "markdown",
      "metadata": {
        "id": "hE7pqlEPEYzI"
      },
      "source": [
        "## **d. Evaluasi Model Klasifikasi setelah Tuning (Optional)**"
      ]
    },
    {
      "cell_type": "markdown",
      "metadata": {
        "id": "feaPESoeN0zz"
      },
      "source": [
        "Berikut adalah rekomendasi tahapannya.\n",
        "1. Gunakan model dengan hyperparameter terbaik.\n",
        "2. Hitung ulang metrik evaluasi untuk melihat apakah ada peningkatan performa."
      ]
    },
    {
      "cell_type": "code",
      "execution_count": 85,
      "metadata": {
        "id": "HTXZRvEeNMb1"
      },
      "outputs": [
        {
          "name": "stdout",
          "output_type": "stream",
          "text": [
            "KNN (best model) Classification Report:\n",
            "               precision    recall  f1-score   support\n",
            "\n",
            "         0.0    1.00000   0.99767   0.99883      1287\n",
            "         1.0    0.98800   1.00000   0.99396       247\n",
            "\n",
            "    accuracy                        0.99804      1534\n",
            "   macro avg    0.99400   0.99883   0.99640      1534\n",
            "weighted avg    0.99807   0.99804   0.99805      1534\n",
            "\n",
            "SVM (best model) Classification Report:\n",
            "               precision    recall  f1-score   support\n",
            "\n",
            "         0.0    1.00000   0.99922   0.99961      1287\n",
            "         1.0    0.99597   1.00000   0.99798       247\n",
            "\n",
            "    accuracy                        0.99935      1534\n",
            "   macro avg    0.99798   0.99961   0.99880      1534\n",
            "weighted avg    0.99935   0.99935   0.99935      1534\n",
            "\n",
            "Naive Bayes (best model) Classification Report:\n",
            "               precision    recall  f1-score   support\n",
            "\n",
            "         0.0    1.00000   0.99068   0.99532      1287\n",
            "         1.0    0.95367   1.00000   0.97628       247\n",
            "\n",
            "    accuracy                        0.99218      1534\n",
            "   macro avg    0.97683   0.99534   0.98580      1534\n",
            "weighted avg    0.99254   0.99218   0.99225      1534\n",
            "\n"
          ]
        }
      ],
      "source": [
        "# KNN\n",
        "knn_best_model = knn_random_search.best_estimator_\n",
        "knn_best_model_y_pred = knn_best_model.predict(X_test)\n",
        "print(\"KNN (best model) Classification Report:\\n\", classification_report(y_test, knn_best_model_y_pred, digits=5))\n",
        "\n",
        "# SVM\n",
        "svm_best_model = svm_random_search.best_estimator_\n",
        "svm_best_model_y_pred = svm_best_model.predict(X_test)\n",
        "print(\"SVM (best model) Classification Report:\\n\", classification_report(y_test, svm_best_model_y_pred, digits=5))\n",
        "\n",
        "# Naive Bayes\n",
        "nb_best_model = nb_random_search.best_estimator_\n",
        "nb_best_model_y_pred = nb_best_model.predict(X_test)\n",
        "print(\"Naive Bayes (best model) Classification Report:\\n\", classification_report(y_test, nb_best_model_y_pred, digits=5))"
      ]
    },
    {
      "cell_type": "code",
      "execution_count": 86,
      "metadata": {},
      "outputs": [
        {
          "data": {
            "text/html": [
              "<div>\n",
              "<style scoped>\n",
              "    .dataframe tbody tr th:only-of-type {\n",
              "        vertical-align: middle;\n",
              "    }\n",
              "\n",
              "    .dataframe tbody tr th {\n",
              "        vertical-align: top;\n",
              "    }\n",
              "\n",
              "    .dataframe thead th {\n",
              "        text-align: right;\n",
              "    }\n",
              "</style>\n",
              "<table border=\"1\" class=\"dataframe\">\n",
              "  <thead>\n",
              "    <tr style=\"text-align: right;\">\n",
              "      <th></th>\n",
              "      <th>Model</th>\n",
              "      <th>Accuracy</th>\n",
              "      <th>Precision</th>\n",
              "      <th>Recall</th>\n",
              "      <th>F1-Score</th>\n",
              "    </tr>\n",
              "  </thead>\n",
              "  <tbody>\n",
              "    <tr>\n",
              "      <th>0</th>\n",
              "      <td>K-Nearest Neighbors (Tuned)</td>\n",
              "      <td>0.998044</td>\n",
              "      <td>0.998068</td>\n",
              "      <td>0.998044</td>\n",
              "      <td>0.998049</td>\n",
              "    </tr>\n",
              "    <tr>\n",
              "      <th>1</th>\n",
              "      <td>Support Vector Machine (Tuned)</td>\n",
              "      <td>0.999348</td>\n",
              "      <td>0.999351</td>\n",
              "      <td>0.999348</td>\n",
              "      <td>0.999349</td>\n",
              "    </tr>\n",
              "    <tr>\n",
              "      <th>2</th>\n",
              "      <td>Naive Bayes (Tuned)</td>\n",
              "      <td>0.992177</td>\n",
              "      <td>0.992540</td>\n",
              "      <td>0.992177</td>\n",
              "      <td>0.992252</td>\n",
              "    </tr>\n",
              "  </tbody>\n",
              "</table>\n",
              "</div>"
            ],
            "text/plain": [
              "                            Model  Accuracy  Precision    Recall  F1-Score\n",
              "0     K-Nearest Neighbors (Tuned)  0.998044   0.998068  0.998044  0.998049\n",
              "1  Support Vector Machine (Tuned)  0.999348   0.999351  0.999348  0.999349\n",
              "2             Naive Bayes (Tuned)  0.992177   0.992540  0.992177  0.992252"
            ]
          },
          "execution_count": 86,
          "metadata": {},
          "output_type": "execute_result"
        }
      ],
      "source": [
        "knn_best_report = classification_report(y_test, knn_best_model_y_pred, digits=5, output_dict=True)\n",
        "svm_best_report = classification_report(y_test, svm_best_model_y_pred, digits=5, output_dict=True)\n",
        "nb_best_report = classification_report(y_test, nb_best_model_y_pred, digits=5, output_dict=True)\n",
        "\n",
        "metrics_tuned = {\n",
        "    'Model': ['K-Nearest Neighbors (Tuned)','Support Vector Machine (Tuned)', 'Naive Bayes (Tuned)'],\n",
        "    'Accuracy': [knn_best_report['accuracy'], svm_best_report['accuracy'], nb_best_report['accuracy']],\n",
        "    'Precision': [knn_best_report['weighted avg']['precision'], svm_best_report['weighted avg']['precision'], nb_best_report['weighted avg']['precision']],\n",
        "    'Recall': [knn_best_report['weighted avg']['recall'], svm_best_report['weighted avg']['recall'], nb_best_report['weighted avg']['recall']],\n",
        "    'F1-Score': [knn_best_report['weighted avg']['f1-score'], svm_best_report['weighted avg']['f1-score'], nb_best_report['weighted avg']['f1-score']],\n",
        "}\n",
        "\n",
        "df_tuned = pd.DataFrame(metrics_tuned)\n",
        "\n",
        "df_tuned"
      ]
    },
    {
      "cell_type": "markdown",
      "metadata": {
        "id": "ZRsOdm4uEgAW"
      },
      "source": [
        "## **e. Analisis Hasil Evaluasi Model Klasifikasi**"
      ]
    },
    {
      "cell_type": "code",
      "execution_count": 87,
      "metadata": {},
      "outputs": [
        {
          "data": {
            "text/html": [
              "<div>\n",
              "<style scoped>\n",
              "    .dataframe tbody tr th:only-of-type {\n",
              "        vertical-align: middle;\n",
              "    }\n",
              "\n",
              "    .dataframe tbody tr th {\n",
              "        vertical-align: top;\n",
              "    }\n",
              "\n",
              "    .dataframe thead th {\n",
              "        text-align: right;\n",
              "    }\n",
              "</style>\n",
              "<table border=\"1\" class=\"dataframe\">\n",
              "  <thead>\n",
              "    <tr style=\"text-align: right;\">\n",
              "      <th></th>\n",
              "      <th>Model</th>\n",
              "      <th>Accuracy</th>\n",
              "      <th>Precision</th>\n",
              "      <th>Recall</th>\n",
              "      <th>F1-Score</th>\n",
              "    </tr>\n",
              "  </thead>\n",
              "  <tbody>\n",
              "    <tr>\n",
              "      <th>0</th>\n",
              "      <td>K-Nearest Neighbor</td>\n",
              "      <td>0.998044</td>\n",
              "      <td>0.998068</td>\n",
              "      <td>0.998044</td>\n",
              "      <td>0.998049</td>\n",
              "    </tr>\n",
              "    <tr>\n",
              "      <th>1</th>\n",
              "      <td>Decision Tree</td>\n",
              "      <td>1.000000</td>\n",
              "      <td>1.000000</td>\n",
              "      <td>1.000000</td>\n",
              "      <td>1.000000</td>\n",
              "    </tr>\n",
              "    <tr>\n",
              "      <th>2</th>\n",
              "      <td>Random Forest</td>\n",
              "      <td>1.000000</td>\n",
              "      <td>1.000000</td>\n",
              "      <td>1.000000</td>\n",
              "      <td>1.000000</td>\n",
              "    </tr>\n",
              "    <tr>\n",
              "      <th>3</th>\n",
              "      <td>Support Vector Machine</td>\n",
              "      <td>0.997392</td>\n",
              "      <td>0.997434</td>\n",
              "      <td>0.997392</td>\n",
              "      <td>0.997401</td>\n",
              "    </tr>\n",
              "    <tr>\n",
              "      <th>4</th>\n",
              "      <td>Naive Bayes</td>\n",
              "      <td>0.992177</td>\n",
              "      <td>0.992540</td>\n",
              "      <td>0.992177</td>\n",
              "      <td>0.992252</td>\n",
              "    </tr>\n",
              "    <tr>\n",
              "      <th>5</th>\n",
              "      <td>K-Nearest Neighbors (Tuned)</td>\n",
              "      <td>0.998044</td>\n",
              "      <td>0.998068</td>\n",
              "      <td>0.998044</td>\n",
              "      <td>0.998049</td>\n",
              "    </tr>\n",
              "    <tr>\n",
              "      <th>6</th>\n",
              "      <td>Support Vector Machine (Tuned)</td>\n",
              "      <td>0.999348</td>\n",
              "      <td>0.999351</td>\n",
              "      <td>0.999348</td>\n",
              "      <td>0.999349</td>\n",
              "    </tr>\n",
              "    <tr>\n",
              "      <th>7</th>\n",
              "      <td>Naive Bayes (Tuned)</td>\n",
              "      <td>0.992177</td>\n",
              "      <td>0.992540</td>\n",
              "      <td>0.992177</td>\n",
              "      <td>0.992252</td>\n",
              "    </tr>\n",
              "  </tbody>\n",
              "</table>\n",
              "</div>"
            ],
            "text/plain": [
              "                            Model  Accuracy  Precision    Recall  F1-Score\n",
              "0              K-Nearest Neighbor  0.998044   0.998068  0.998044  0.998049\n",
              "1                   Decision Tree  1.000000   1.000000  1.000000  1.000000\n",
              "2                   Random Forest  1.000000   1.000000  1.000000  1.000000\n",
              "3          Support Vector Machine  0.997392   0.997434  0.997392  0.997401\n",
              "4                     Naive Bayes  0.992177   0.992540  0.992177  0.992252\n",
              "5     K-Nearest Neighbors (Tuned)  0.998044   0.998068  0.998044  0.998049\n",
              "6  Support Vector Machine (Tuned)  0.999348   0.999351  0.999348  0.999349\n",
              "7             Naive Bayes (Tuned)  0.992177   0.992540  0.992177  0.992252"
            ]
          },
          "execution_count": 87,
          "metadata": {},
          "output_type": "execute_result"
        }
      ],
      "source": [
        "df_merged = pd.concat([df_untuned, df_tuned], ignore_index=True)\n",
        "df_merged\n"
      ]
    },
    {
      "cell_type": "markdown",
      "metadata": {},
      "source": [
        "### Precision dan Recall\n",
        "Semua model memiliki nilai precision dan recall yang sangat tinggi (di atas 0.97), dan bahkan untuk model Decision Tree dan Random Forest menghasilkan nilai yang maksima, selain itu tidak ada yang menunjukkan nilai rendah untuk kelas tertentu. Nilai precision dan recall yang hampir sama menunjukkan model dapat mengenali semua kelas dengan baik.\n",
        "\n",
        "### Overfitting atau Underfitting\n",
        "Dari data yang diberikan:\n",
        "\n",
        "1. Tidak ada tanda-tanda underfitting - Semua model memiliki akurasi sangat tinggi (>0.97), menunjukkan model dapat memahami pola data dengan baik.\n",
        "2. Kemungkinan overfitting pada model - Decision Tree dan Random Forest memiliki akurasi sempurna (1), untuk model ini, mungkin terjadi overfitting tapi harus di periksa kembali apakah benar memang terjadi overfitting atau tidak.\n",
        "3. Tuning berhasil meningkatkan performa pada model SVM - dan untuk model K-Nearest Neighbor serta Naive Bayes tidak mengalami peningkatan."
      ]
    }
  ],
  "metadata": {
    "colab": {
      "provenance": []
    },
    "kernelspec": {
      "display_name": ".venv",
      "language": "python",
      "name": "python3"
    },
    "language_info": {
      "codemirror_mode": {
        "name": "ipython",
        "version": 3
      },
      "file_extension": ".py",
      "mimetype": "text/x-python",
      "name": "python",
      "nbconvert_exporter": "python",
      "pygments_lexer": "ipython3",
      "version": "3.13.2"
    }
  },
  "nbformat": 4,
  "nbformat_minor": 0
}
